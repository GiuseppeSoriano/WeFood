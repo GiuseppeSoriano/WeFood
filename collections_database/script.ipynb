{
 "cells": [
  {
   "cell_type": "markdown",
   "metadata": {},
   "source": [
    "Pretty"
   ]
  },
  {
   "cell_type": "code",
   "execution_count": 1,
   "metadata": {},
   "outputs": [
    {
     "name": "stdout",
     "output_type": "stream",
     "text": [
      "Intel MKL WARNING: Support of Intel(R) Streaming SIMD Extensions 4.2 (Intel(R) SSE4.2) enabled only processors has been deprecated. Intel oneAPI Math Kernel Library 2025.0 will require Intel(R) Advanced Vector Extensions (Intel(R) AVX) instructions.\n",
      "Intel MKL WARNING: Support of Intel(R) Streaming SIMD Extensions 4.2 (Intel(R) SSE4.2) enabled only processors has been deprecated. Intel oneAPI Math Kernel Library 2025.0 will require Intel(R) Advanced Vector Extensions (Intel(R) AVX) instructions.\n"
     ]
    }
   ],
   "source": [
    "import pandas as pd\n",
    "import json\n",
    "import bcrypt"
   ]
  },
  {
   "cell_type": "code",
   "execution_count": 7,
   "metadata": {},
   "outputs": [],
   "source": [
    "posts = pd.read_json('posts.json', lines=True)\n",
    "\n",
    "posts.to_json('posts_pretty.json', orient='records', lines=False, indent=4)"
   ]
  },
  {
   "cell_type": "code",
   "execution_count": 6,
   "metadata": {},
   "outputs": [],
   "source": [
    "users = pd.read_json('users.json', lines=True)\n",
    "\n",
    "users.to_json('users_pretty.json', orient='records', lines=False, indent=4)"
   ]
  },
  {
   "cell_type": "code",
   "execution_count": 9,
   "metadata": {},
   "outputs": [],
   "source": [
    "ingredients = pd.read_json('ingredients.json', lines=True)\n",
    "\n",
    "ingredients.to_json('ingredients_pretty.json', orient='records', lines=False, indent=4)"
   ]
  },
  {
   "cell_type": "markdown",
   "metadata": {},
   "source": [
    "Modifica id degli user nei post"
   ]
  },
  {
   "cell_type": "code",
   "execution_count": 11,
   "metadata": {},
   "outputs": [],
   "source": [
    "# Leggi il file JSON dei post\n",
    "with open('posts_pretty.json', 'r') as file:\n",
    "    posts = json.load(file)\n",
    "with open('users_pretty.json', 'r') as file:\n",
    "    users = json.load(file)\n",
    "\n",
    "\n",
    "\n",
    "# Crea una mappa dei commenti basata su user_id\n",
    "users_map = {}\n",
    "for user in users:\n",
    "    user_id = user['id']\n",
    "    if user_id not in users_map:\n",
    "        users_map[user_id] = []\n",
    "    users_map[user_id].append(user)\n",
    "\n",
    "# Aggiungi i commenti ai post corrispondenti\n",
    "for post in posts:\n",
    "    user_id = post['idUser']\n",
    "    post['idUser'] = users_map.get(user_id, [])[0][\"_id\"]\n",
    "    for comment in post[\"comments\"]:\n",
    "        user_id = comment['idUser']\n",
    "        comment['idUser'] = users_map.get(user_id, [])[0][\"_id\"]\n",
    "    for star in post[\"starRankings\"]:\n",
    "        user_id = star['idUser']\n",
    "        star['idUser'] = users_map.get(user_id, [])[0][\"_id\"]        \n",
    "\n",
    "# Salva o restituisci il nuovo JSON\n",
    "with open('posts_updated.json', 'w') as file:\n",
    "    json.dump(posts, file, indent=4)"
   ]
  },
  {
   "cell_type": "code",
   "execution_count": 13,
   "metadata": {},
   "outputs": [],
   "source": [
    "# Leggi il file JSON dei post\n",
    "with open('posts_pretty.json', 'r') as file:\n",
    "    posts = json.load(file)\n",
    "with open('users_pretty.json', 'r') as file:\n",
    "    users = json.load(file)\n",
    "\n",
    "# Crea una mappa dei commenti basata su user_id\n",
    "posts_map = {}\n",
    "for post in posts:\n",
    "    post_id = post['id']\n",
    "    if post_id not in posts_map:\n",
    "        posts_map[post_id] = []\n",
    "    posts_map[post_id].append(post)\n",
    "\n",
    "# Aggiungi i commenti ai post corrispondenti\n",
    "for user in users:\n",
    "    for post in user[\"posts\"]:\n",
    "        post_id = post['idPost']\n",
    "        post['idPost'] = posts_map.get(post_id, [])[0][\"_id\"]    \n",
    "\n",
    "# Salva o restituisci il nuovo JSON\n",
    "with open('users_updated.json', 'w') as file:\n",
    "    json.dump(users, file, indent=4)"
   ]
  },
  {
   "cell_type": "markdown",
   "metadata": {},
   "source": [
    "Puliamo"
   ]
  },
  {
   "cell_type": "code",
   "execution_count": 14,
   "metadata": {},
   "outputs": [],
   "source": [
    "with open('users_updated.json', 'r') as file:\n",
    "    users = json.load(file)\n",
    "    \n",
    "for user in users:\n",
    "    del user[\"id\"]\n",
    "        \n",
    "with open('users_database.json', 'w') as file:\n",
    "    json.dump(users, file, indent=4)"
   ]
  },
  {
   "cell_type": "code",
   "execution_count": 2,
   "metadata": {},
   "outputs": [],
   "source": [
    "with open('users_database.json', 'r') as file:\n",
    "    users = json.load(file)\n",
    "    \n",
    "for user in users:\n",
    "    #string to bytes\n",
    "    password = user[\"password\"].encode()\n",
    "    salt = bcrypt.gensalt()  # Genera un sale\n",
    "    hashed = bcrypt.hashpw(password, salt)\n",
    "    user[\"password\"] = hashed.decode()\n",
    "\n",
    "        \n",
    "with open('users_database_hashed.json', 'w') as file:\n",
    "    json.dump(users, file, indent=4)"
   ]
  },
  {
   "cell_type": "code",
   "execution_count": 16,
   "metadata": {},
   "outputs": [
    {
     "name": "stdout",
     "output_type": "stream",
     "text": [
      "27901\n",
      "Password corretta per l'utente mathew_pierce_34\n"
     ]
    }
   ],
   "source": [
    "with open('users_database_hashed.json', 'r') as file:\n",
    "    users_hashed = json.load(file)\n",
    "with open('users_database.json', 'r') as file:\n",
    "    users = json.load(file)\n",
    "\n",
    "# Verifica delle password\n",
    "\n",
    "id = 27900\n",
    "\n",
    "input_password = users[id][\"password\"]  # Sostituisci con la password effettiva\n",
    "stored_hash = users_hashed[id][\"password\"].encode()  # Ottieni l'hash salvato e codificalo in bytes\n",
    "\n",
    "if bcrypt.checkpw(input_password.encode(), stored_hash):\n",
    "    print(f\"Password corretta per l'utente {users_hashed[id]['username']}\")\n",
    "else:\n",
    "    print(f\"Password errata per l'utente {users_hashed[id]['username']}\")"
   ]
  },
  {
   "cell_type": "code",
   "execution_count": 3,
   "metadata": {},
   "outputs": [],
   "source": [
    "with open('posts_updated.json', 'r') as file:\n",
    "    posts = json.load(file)\n",
    "    \n",
    "for post in posts:\n",
    "    del post[\"id\"]\n",
    "    if post[\"description\"] == None:\n",
    "        del post[\"description\"]\n",
    "    if post[\"avgStarRanking\"] == \"No votes available\":\n",
    "        del post[\"avgStarRanking\"]\n",
    "    else:\n",
    "        post[\"avgStarRanking\"] = float(post[\"avgStarRanking\"])\n",
    "    if post[\"comments\"] == []:\n",
    "        del post[\"comments\"]\n",
    "    if post[\"starRankings\"] == []:\n",
    "        del post[\"starRankings\"]\n",
    "        \n",
    "with open('posts_database.json', 'w') as file:\n",
    "    json.dump(posts, file, indent=4)"
   ]
  }
 ],
 "metadata": {
  "kernelspec": {
   "display_name": "WeFood",
   "language": "python",
   "name": "python3"
  },
  "language_info": {
   "codemirror_mode": {
    "name": "ipython",
    "version": 3
   },
   "file_extension": ".py",
   "mimetype": "text/x-python",
   "name": "python",
   "nbconvert_exporter": "python",
   "pygments_lexer": "ipython3",
   "version": "3.12.0"
  }
 },
 "nbformat": 4,
 "nbformat_minor": 2
}
