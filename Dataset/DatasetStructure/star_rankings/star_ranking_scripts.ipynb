{
 "cells": [
  {
   "cell_type": "code",
   "execution_count": 5,
   "metadata": {},
   "outputs": [],
   "source": [
    "import pandas as pd\n",
    "import json"
   ]
  },
  {
   "cell_type": "code",
   "execution_count": 17,
   "metadata": {},
   "outputs": [
    {
     "name": "stdout",
     "output_type": "stream",
     "text": [
      "5661835\n",
      "3397101\n"
     ]
    }
   ],
   "source": [
    "# Percorso del file CSV\n",
    "input_csv_file = '../0Raw_Datasets/RAW_interactions.csv'\n",
    "\n",
    "# Leggi il file CSV\n",
    "df = pd.read_csv(input_csv_file)\n",
    "\n",
    "print(df.size)\n",
    "\n",
    "# Rimuovi le righe duplicate basate su user_id e recipe_id\n",
    "df = df.drop_duplicates(subset=['user_id', 'recipe_id'])\n",
    "\n",
    "# Seleziona e rinomina le colonne\n",
    "df = df[['user_id', 'recipe_id', 'rating']].rename(columns={'rating': 'vote'})\n",
    "\n",
    "# Percorso del file JSON di output\n",
    "output_json_file = 'star_rankings.json'\n",
    "\n",
    "# Esporta in JSON\n",
    "df.to_json(output_json_file, orient='records', lines=False, indent=4)\n",
    "\n",
    "print(df.size)"
   ]
  },
  {
   "cell_type": "code",
   "execution_count": 30,
   "metadata": {},
   "outputs": [
    {
     "name": "stdout",
     "output_type": "stream",
     "text": [
      "2139903\n",
      "   user_id  recipe_id  vote\n",
      "1  1293707      40893     5\n",
      "2     8937      44394     4\n",
      "3   126440      85009     5\n",
      "4    57222      85009     5\n",
      "5    52282     120345     4\n"
     ]
    }
   ],
   "source": [
    "# Percorso del file JSON degli utenti\n",
    "users_json_file = '../users/utenti_generati.json'\n",
    "\n",
    "# Leggi il file JSON degli utenti e estrai gli ID\n",
    "with open(users_json_file, 'r', encoding='utf-8') as file:\n",
    "    users_data = json.load(file)\n",
    "user_ids = {user['Contributor_ID'] for user in users_data}\n",
    "\n",
    "# Percorso del file JSON dei record\n",
    "records_json_file = 'star_rankings.json'\n",
    "\n",
    "# Carica il file JSON dei record in un DataFrame\n",
    "df_records = pd.read_json(records_json_file)\n",
    "\n",
    "# Filtra i record mantenendo solo quelli con user_id presente in user_ids\n",
    "filtered_df = df_records[df_records['user_id'].isin(user_ids)]\n",
    "\n",
    "# Stampa la dimensione e le prime righe del DataFrame filtrato\n",
    "print(filtered_df.size)\n",
    "print(filtered_df.head())\n",
    "\n",
    "# Percorso del file JSON di output per i record filtrati\n",
    "output_filtered_json_file = 'star_rankings_cleaned.json'\n",
    "\n",
    "# Esporta i record filtrati in un nuovo file JSON\n",
    "filtered_df.to_json(output_filtered_json_file, orient='records', lines=False, indent=4)\n"
   ]
  }
 ],
 "metadata": {
  "kernelspec": {
   "display_name": "WeFood",
   "language": "python",
   "name": "python3"
  },
  "language_info": {
   "codemirror_mode": {
    "name": "ipython",
    "version": 3
   },
   "file_extension": ".py",
   "mimetype": "text/x-python",
   "name": "python",
   "nbconvert_exporter": "python",
   "pygments_lexer": "ipython3",
   "version": "3.12.0"
  }
 },
 "nbformat": 4,
 "nbformat_minor": 2
}
