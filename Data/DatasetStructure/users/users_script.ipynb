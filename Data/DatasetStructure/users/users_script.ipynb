{
 "cells": [
  {
   "cell_type": "code",
   "execution_count": null,
   "metadata": {},
   "outputs": [],
   "source": [
    "import pandas as pd\n",
    "import faker"
   ]
  },
  {
   "cell_type": "code",
   "execution_count": null,
   "metadata": {},
   "outputs": [],
   "source": [
    "# Crea un generatore di dati casuali\n",
    "fake = faker.Faker()\n",
    "\n",
    "# Leggi il file JSON\n",
    "df_json = pd.read_json('../recipes/RAW_recipes_images_ingredients_cleaned1.json')\n",
    "\n",
    "# Estrai gli ID unici\n",
    "unique_ids = df_json['contributor_id'].unique()\n",
    "\n",
    "# Lista per contenere i dati degli utenti\n",
    "user_data = []\n",
    "username_set = set()\n",
    "\n",
    "# Genera dati casuali per ogni ID unico\n",
    "for uid in unique_ids:\n",
    "    first_name = fake.first_name()\n",
    "    last_name = fake.last_name()\n",
    "    # Inizia con un numero casuale per l'username\n",
    "    num = fake.random_int(min=1, max=99)\n",
    "    username = f\"{first_name.lower()}_{last_name.lower()}_{num}\"\n",
    "    \n",
    "    # Controlla l'unicità dell'username e aggiorna il numero se necessario\n",
    "    while username in username_set:\n",
    "        num += 1\n",
    "        username = f\"{first_name.lower()}_{last_name.lower()}_{num}\"\n",
    "    \n",
    "    username_set.add(username)\n",
    "\n",
    "    password = fake.password(length=10, special_chars=False)\n",
    "    \n",
    "    user_data.append({\n",
    "        'Contributor_ID': uid,\n",
    "        'Nome': first_name,\n",
    "        'Cognome': last_name,\n",
    "        'Username': username,\n",
    "        'Password': password,\n",
    "    })\n",
    "\n",
    "# Crea un DataFrame Pandas\n",
    "df = pd.DataFrame(user_data)\n",
    "\n",
    "# Salva il DataFrame come file CSV\n",
    "# df.to_json('utenti_generati.json', index=False, lines=False, orient='records', indent=4)\n"
   ]
  },
  {
   "cell_type": "markdown",
   "metadata": {},
   "source": [
    "Si definisce la struttura degli utenti che andrà caricata su mongoDB. Bisogna aggiungere un array di post, in cui ogni post avrà la seguente struttura:\n",
    "-   {\n",
    "    \"idPost\" , ovvero recipeId\n",
    "    \"name\", della ricetta\n",
    "    \"image\", della ricetta\n",
    "}"
   ]
  },
  {
   "cell_type": "code",
   "execution_count": 3,
   "metadata": {},
   "outputs": [],
   "source": [
    "import pandas as pd\n",
    "import json\n",
    "\n",
    "# Carica i dati degli utenti dal file JSON\n",
    "with open('utenti_generati.json', 'r') as file:\n",
    "    utenti_data = json.load(file)\n",
    "\n",
    "# Carica i dati dei post dal file JSON\n",
    "with open('../recipes/RAW_recipes_images_ingredients_cleaned1.json', 'r') as file:\n",
    "    posts_data = json.load(file)\n",
    "\n",
    "# Crea un dataframe dagli utenti\n",
    "df_utenti = pd.DataFrame(utenti_data)\n",
    "\n",
    "# Crea un dataframe dai post e seleziona solo le colonne richieste\n",
    "df_posts = pd.DataFrame(posts_data)[['contributor_id', 'id', 'name', 'Image']]\n",
    "df_posts.rename(columns={'id': 'idPost'}, inplace=True)\n",
    "\n",
    "# Aggiungi un array di post ad ogni utente\n",
    "df_utenti['posts'] = df_utenti['Contributor_ID'].apply(\n",
    "    lambda x: df_posts[df_posts['contributor_id'] == x].to_dict(orient='records'))\n",
    "\n",
    "# Salva il dataframe in un file JSON\n",
    "df_utenti.to_json('utenti_con_posts.json', orient='records', lines=False, indent=4)\n"
   ]
  },
  {
   "cell_type": "code",
   "execution_count": 4,
   "metadata": {},
   "outputs": [],
   "source": [
    "with open('utenti_con_posts.json', 'r') as file:\n",
    "    utenti = json.load(file)\n",
    "    \n",
    "for utente in utenti:\n",
    "    for post in utente[\"posts\"]:\n",
    "        del post[\"contributor_id\"]\n",
    "        \n",
    "with open('utenti_database.json', 'w') as file:\n",
    "    json.dump(utenti, file, indent=4)"
   ]
  }
 ],
 "metadata": {
  "kernelspec": {
   "display_name": "WeFood",
   "language": "python",
   "name": "python3"
  },
  "language_info": {
   "codemirror_mode": {
    "name": "ipython",
    "version": 3
   },
   "file_extension": ".py",
   "mimetype": "text/x-python",
   "name": "python",
   "nbconvert_exporter": "python",
   "pygments_lexer": "ipython3",
   "version": "3.12.0"
  }
 },
 "nbformat": 4,
 "nbformat_minor": 2
}
