{
 "cells": [
  {
   "cell_type": "code",
   "execution_count": 9,
   "metadata": {},
   "outputs": [],
   "source": [
    "import pandas as pd\n",
    "import json\n",
    "import random"
   ]
  },
  {
   "cell_type": "markdown",
   "metadata": {},
   "source": [
    "Abbiamo inizialmente convertito il file RAW_recipes.csv in RAW_recipes.json"
   ]
  },
  {
   "cell_type": "markdown",
   "metadata": {},
   "source": [
    "Abbiamo pulito il file RAW_recipes.json, il quale ha la seguente struttura: \n",
    "-   name\n",
    "-   id: id della ricetta  ----- (da cancellare dopo collegamenti)\n",
    "-   minutes XX\n",
    "-   contributor_id: utente\n",
    "-   submitted: data (TIMESTAMP POST)\n",
    "-   tags: magari si potrebbero droppare, non servono XX\n",
    "-   nutrition: valori nutrizionali associati alla ricetta, magari si può droppare anche questa, si può ricavare facilmente dalle informazioni in ingredienti XX\n",
    "-   n_steps XX\n",
    "-   steps\n",
    "-   description (DESCRIPTION POST)\n",
    "-   ingredients\n",
    "-   n_ingredients XX\n",
    "\n",
    "in:\n",
    "-   name\n",
    "-   id: id della ricetta  ----- (da cancellare dopo collegamenti)\n",
    "-   contributor_id: utente\n",
    "-   submitted: data (TIMESTAMP POST)\n",
    "-   steps\n",
    "-   description (DESCRIPTION POST)\n",
    "-   ingredients"
   ]
  },
  {
   "cell_type": "code",
   "execution_count": 8,
   "metadata": {},
   "outputs": [],
   "source": [
    "# Leggi il JSON in un DataFrame\n",
    "raw_recipes_df = pd.read_json('RAW_recipes.json', orient='records')\n",
    "\n",
    "# Elimina le colonne non necessarie\n",
    "columns_to_drop = ['minutes', 'tags', 'nutrition', 'n_steps', 'n_ingredients']\n",
    "reduced_df = raw_recipes_df.drop(columns=columns_to_drop)\n",
    "\n",
    "# Definizione del percorso del nuovo file JSON\n",
    "new_json_path = 'RAW_recipes_reduced.json'\n",
    "\n",
    "# Salvataggio del DataFrame in un nuovo file JSON con formattazione pretty\n",
    "reduced_df.to_json(new_json_path, orient='records', lines=False, indent=4)\n"
   ]
  },
  {
   "cell_type": "markdown",
   "metadata": {},
   "source": [
    "Abbiamo trasformato steps e ingredients da stringa in array di stringhe"
   ]
  },
  {
   "cell_type": "code",
   "execution_count": 9,
   "metadata": {},
   "outputs": [],
   "source": [
    "# Funzione per convertire stringhe in array di stringhe (separatore: \"', '\")\n",
    "def convert_str_to_array(string):\n",
    "    return string[2:-2].split(\"', '\")\n",
    "\n",
    "reduced_df['steps'] = reduced_df['steps'].apply(convert_str_to_array)\n",
    "reduced_df['ingredients'] = reduced_df['ingredients'].apply(convert_str_to_array)\n",
    "\n",
    "# Definizione del percorso del nuovo file JSON\n",
    "new_json_path = 'RAW_recipes_reduced_array.json'\n",
    "\n",
    "# Salvataggio del DataFrame in un nuovo file JSON con formattazione pretty\n",
    "reduced_df.to_json(new_json_path, orient='records', lines=False, indent=4)"
   ]
  },
  {
   "cell_type": "markdown",
   "metadata": {},
   "source": [
    "Passiamo alle modifiche del file recipes.csv, da cui recupereremo le immagini:\n",
    "-   RecipeId\n",
    "-   AuthorName\n",
    "-   Image URLs"
   ]
  },
  {
   "cell_type": "code",
   "execution_count": 12,
   "metadata": {},
   "outputs": [],
   "source": [
    "image_recipes_df = pd.read_json('IMAGE_recipes.json', orient='records')\n",
    "\n",
    "column_to_keep = ['RecipeId', 'AuthorName', 'Images']\n",
    "\n",
    "reduced_image_df = image_recipes_df[column_to_keep]\n",
    "\n",
    "new_json_path = 'IMAGE_recipes_reduced.json'\n",
    "\n",
    "reduced_image_df.to_json(new_json_path, orient='records', lines=False, indent=4)"
   ]
  },
  {
   "cell_type": "code",
   "execution_count": 21,
   "metadata": {},
   "outputs": [
    {
     "name": "stderr",
     "output_type": "stream",
     "text": [
      "/var/folders/rv/w7k68zds33v40x4d_lx8k5rh0000gn/T/ipykernel_31432/745219229.py:11: SettingWithCopyWarning: \n",
      "A value is trying to be set on a copy of a slice from a DataFrame.\n",
      "Try using .loc[row_indexer,col_indexer] = value instead\n",
      "\n",
      "See the caveats in the documentation: https://pandas.pydata.org/pandas-docs/stable/user_guide/indexing.html#returning-a-view-versus-a-copy\n",
      "  reduced_image_df['Image'] = reduced_image_df['Images'].apply(extract_first_image)\n"
     ]
    }
   ],
   "source": [
    "def extract_first_image(images_field):\n",
    "    if images_field == 'character(0)' or images_field == None:\n",
    "        return \"\"\n",
    "    images = images_field.split('\", ')\n",
    "    if(len(images) == 0):\n",
    "        return images_field\n",
    "    first_image = images[0].split('(')[-1].strip('\\\"')\n",
    "    return first_image\n",
    "\n",
    "# Applica la funzione alla colonna 'Images'\n",
    "reduced_image_df['Image'] = reduced_image_df['Images'].apply(extract_first_image)\n",
    "\n",
    "# Seleziona solo le colonne necessarie\n",
    "df_output = reduced_image_df[['RecipeId', 'AuthorName', 'Image']]\n",
    "\n",
    "new_json_path = 'IMAGE_recipes_reduced_single_image.json'\n",
    "\n",
    "df_output.to_json(new_json_path, orient='records', lines=False, indent=4)"
   ]
  },
  {
   "cell_type": "markdown",
   "metadata": {},
   "source": [
    "ESEMPIO:\n",
    "https://img.sndimg.com/food/image/upload/w_555,h_416,c_fit,fl_progressive,q_95/v1/img/recipes/38/YUeirxMLQaeE1h3v3qnM_229%20berry%20blue%20frzn%20dess.jpg"
   ]
  },
  {
   "cell_type": "markdown",
   "metadata": {},
   "source": [
    "Se la stringa di Image è vuota, verrà messa l'immagine di default (logo di WeFood)"
   ]
  },
  {
   "cell_type": "markdown",
   "metadata": {},
   "source": [
    "A questo punto, si collegano le immagini al file iniziale delle ricette RAW_recipes_reduced_array.json"
   ]
  },
  {
   "cell_type": "code",
   "execution_count": 3,
   "metadata": {},
   "outputs": [],
   "source": [
    "with open('RAW_recipes_reduced_array.json', 'r') as file:\n",
    "    dati1 = json.load(file)\n",
    "\n",
    "# Carica il secondo file JSON\n",
    "with open('IMAGE_recipes_reduced_single_image.json', 'r') as file:\n",
    "    dati2 = json.load(file)\n",
    "\n",
    "# Converti il secondo set di dati in un dizionario per un accesso più rapido\n",
    "dati2_dict = {item['RecipeId']: item for item in dati2}\n",
    "\n",
    "# Esegui il merge\n",
    "dati_combinati = []\n",
    "for item in dati1:\n",
    "    id_ricetta = item['id']\n",
    "    if id_ricetta in dati2_dict:\n",
    "        # Combina i dati\n",
    "        dati_combinati.append({**item, **dati2_dict[id_ricetta]})\n",
    "\n",
    "# Salva il risultato in un nuovo file JSON\n",
    "with open('RAW_recipes_images.json', 'w') as file:\n",
    "    json.dump(dati_combinati, file, indent=4)"
   ]
  },
  {
   "cell_type": "code",
   "execution_count": 8,
   "metadata": {},
   "outputs": [
    {
     "data": {
      "text/plain": [
       "231323"
      ]
     },
     "execution_count": 8,
     "metadata": {},
     "output_type": "execute_result"
    }
   ],
   "source": [
    "len(dati_combinati)"
   ]
  },
  {
   "cell_type": "markdown",
   "metadata": {},
   "source": [
    "Il file ha 231323 ricette"
   ]
  },
  {
   "cell_type": "markdown",
   "metadata": {},
   "source": [
    "Si procede con salvare gli ingredienti con la struttura che avranno nel post all'interno del file RAW_recipes_images.json"
   ]
  },
  {
   "cell_type": "code",
   "execution_count": 14,
   "metadata": {},
   "outputs": [],
   "source": [
    "with open('RAW_recipes_images.json', 'r') as file:\n",
    "    ricette = json.load(file)\n",
    "\n",
    "# Carica il secondo file JSON\n",
    "with open('../ingredients/merged_fuzzy_df_updated_reduced.json', 'r') as file:\n",
    "    ingredienti_dati = json.load(file)\n",
    "\n",
    "for ricetta in ricette:\n",
    "    nuovi_ingredienti = []\n",
    "    for ingrediente in ricetta['ingredients']:\n",
    "        # Qui assumeremo che se una parola chiave in 'ingrediente' è presente in 'raw_ingr', c'è un match\n",
    "        # Questo è un esempio molto semplice e potrebbe non funzionare in tutti i casi\n",
    "        for ingrediente_redis in ingredienti_dati:\n",
    "            if ingrediente == ingrediente_redis['raw_ingr']:\n",
    "                nuovo_ingrediente = {\n",
    "                    \"raw_ingr\": ingrediente_redis['raw_ingr'],\n",
    "                    \"foodItem\": ingrediente_redis['foodItem'],\n",
    "                    \"Cals_per100grams\": ingrediente_redis['Cals_per100grams'],\n",
    "                    \"quantity\": random.randint(ingrediente_redis['quantity_min'], ingrediente_redis['quantity_max'])\n",
    "                }\n",
    "                nuovi_ingredienti.append(nuovo_ingrediente)\n",
    "                break\n",
    "\n",
    "    ricetta['ingredients'] = nuovi_ingredienti\n",
    "    \n",
    "with open('RAW_recipes_images_ingredients.json', 'w') as file:\n",
    "    json.dump(ricette, file, indent=4)"
   ]
  },
  {
   "cell_type": "markdown",
   "metadata": {},
   "source": [
    "Si elimina raw_ingr"
   ]
  },
  {
   "cell_type": "code",
   "execution_count": 15,
   "metadata": {},
   "outputs": [],
   "source": [
    "with open('RAW_recipes_images_ingredients.json', 'r') as file:\n",
    "    ricette = json.load(file)\n",
    "    \n",
    "for ricetta in ricette:\n",
    "    for ingrediente in ricetta[\"ingredients\"]:\n",
    "        del ingrediente[\"raw_ingr\"]\n",
    "        \n",
    "with open('RAW_recipes_images_ingredients_cleaned.json', 'w') as file:\n",
    "    json.dump(ricette, file, indent=4)"
   ]
  },
  {
   "cell_type": "code",
   "execution_count": 16,
   "metadata": {},
   "outputs": [],
   "source": [
    "with open('RAW_recipes_images_ingredients_cleaned.json', 'r') as file:\n",
    "    ricette = json.load(file)\n",
    "    \n",
    "for ricetta in ricette:\n",
    "    del ricetta[\"RecipeId\"]\n",
    "    del ricetta[\"AuthorName\"]\n",
    "        \n",
    "with open('RAW_recipes_images_ingredients_cleaned1.json', 'w') as file:\n",
    "    json.dump(ricette, file, indent=4)"
   ]
  }
 ],
 "metadata": {
  "kernelspec": {
   "display_name": "WeFood",
   "language": "python",
   "name": "python3"
  },
  "language_info": {
   "codemirror_mode": {
    "name": "ipython",
    "version": 3
   },
   "file_extension": ".py",
   "mimetype": "text/x-python",
   "name": "python",
   "nbconvert_exporter": "python",
   "pygments_lexer": "ipython3",
   "version": "3.12.0"
  }
 },
 "nbformat": 4,
 "nbformat_minor": 2
}
