{
 "cells": [
  {
   "cell_type": "markdown",
   "metadata": {},
   "source": [
    "# Analisi della struttura del dataset"
   ]
  },
  {
   "cell_type": "markdown",
   "metadata": {},
   "source": [
    "## Analisi dei file"
   ]
  },
  {
   "cell_type": "code",
   "execution_count": 2,
   "metadata": {},
   "outputs": [
    {
     "name": "stdout",
     "output_type": "stream",
     "text": [
      "Intel MKL WARNING: Support of Intel(R) Streaming SIMD Extensions 4.2 (Intel(R) SSE4.2) enabled only processors has been deprecated. Intel oneAPI Math Kernel Library 2025.0 will require Intel(R) Advanced Vector Extensions (Intel(R) AVX) instructions.\n",
      "Intel MKL WARNING: Support of Intel(R) Streaming SIMD Extensions 4.2 (Intel(R) SSE4.2) enabled only processors has been deprecated. Intel oneAPI Math Kernel Library 2025.0 will require Intel(R) Advanced Vector Extensions (Intel(R) AVX) instructions.\n"
     ]
    }
   ],
   "source": [
    "import pandas as pd"
   ]
  },
  {
   "cell_type": "markdown",
   "metadata": {},
   "source": [
    "### ingr_map.pkl"
   ]
  },
  {
   "cell_type": "code",
   "execution_count": 12,
   "metadata": {},
   "outputs": [],
   "source": [
    "file_path = 'ingr_map.pkl'\n",
    "ingr_map_df = pd.read_pickle(file_path)\n",
    "\n",
    "ingr_map_df.drop(columns=['raw_words', 'processed', 'len_proc', 'count'], inplace=True)\n",
    "\n",
    "distinct_ingr = ingr_map_df['replaced'].unique()\n",
    "\n",
    "# print distinct ingredients in a file\n",
    "with open('distinct_ingr.txt', 'w') as f:\n",
    "    for item in distinct_ingr:\n",
    "        f.write(\"%s\\n\" % item)"
   ]
  },
  {
   "cell_type": "markdown",
   "metadata": {},
   "source": [
    "Il file prevede la struttura con le seguenti colonne:\n",
    "-   raw_ingr: forma originale\n",
    "-   raw_words: numero di parole nella forma originale XX\n",
    "-   processed: forma processata XX\n",
    "-   len_proc: lunghezza caratteri della forma processata XX\n",
    "-   replaced: ingrediente con cui si fa la sostituzione \n",
    "-   count: conteggio della frequenza del dato ingrediente XX\n",
    "-   id: identificativo unico dell'ingrediente\n",
    "\n",
    "Il file è stato pulito e salvato in Ingredients.json"
   ]
  },
  {
   "cell_type": "markdown",
   "metadata": {},
   "source": [
    "### interactions_train.csv"
   ]
  },
  {
   "cell_type": "code",
   "execution_count": 4,
   "metadata": {},
   "outputs": [
    {
     "data": {
      "text/plain": [
       "(   user_id  recipe_id        date  rating      u       i\n",
       " 0     2046       4684  2000-02-25     5.0  22095   44367\n",
       " 1     2046        517  2000-02-25     5.0  22095   87844\n",
       " 2     1773       7435  2000-03-13     5.0  24732  138181\n",
       " 3     1773        278  2000-03-13     4.0  24732   93054\n",
       " 4     2046       3431  2000-04-07     5.0  22095  101723,\n",
       " ['user_id', 'recipe_id', 'date', 'rating', 'u', 'i'])"
      ]
     },
     "execution_count": 4,
     "metadata": {},
     "output_type": "execute_result"
    }
   ],
   "source": [
    "file_path = 'interactions_train.csv'\n",
    "interactions_train_df = pd.read_csv(file_path)\n",
    "\n",
    "interactions_train_df.head(), interactions_train_df.columns.tolist()"
   ]
  },
  {
   "cell_type": "markdown",
   "metadata": {},
   "source": [
    "FILE DA NON CONSIDERARE\n",
    "\n",
    "Le colonne sono: \n",
    "-   user_id: rappresentante id dell'utente \n",
    "-   recipe_id: ricetta a cui è stata lasciata la valutazione \n",
    "-   date: data in cui viene effettuata la valutazione \n",
    "-   rating: valore della valutazione \n",
    "-   u: probabilmente identificatore dell'utente autore della ricetta, da verificare\n",
    "-   i: identificatore interno, non chiaro l'utilizzo"
   ]
  },
  {
   "cell_type": "markdown",
   "metadata": {},
   "source": [
    "### raw_recipes.csv"
   ]
  },
  {
   "cell_type": "code",
   "execution_count": 5,
   "metadata": {},
   "outputs": [],
   "source": [
    "file_path = 'RAW_recipes.csv'\n",
    "raw_recipes_df = pd.read_csv(file_path)\n",
    "\n",
    "raw_recipes_df.head(), raw_recipes_df.columns.tolist()\n",
    "\n",
    "raw_recipes_df.head(1)\n",
    "\n",
    "raw_recipes_df.drop(columns=['minutes', 'tags', 'nutrition', 'n_steps', 'n_ingredients'], inplace=True)\n",
    "\n",
    "# print first row in a csv file\n",
    "with open('MyP_recipes3.json', 'w') as f:\n",
    "    for index, row in raw_recipes_df.iterrows():\n",
    "        if index == 0:\n",
    "            f.write('[')\n",
    "        elif index == 100: \n",
    "            f.write(']')\n",
    "            break\n",
    "        else:\n",
    "            f.write(',\\n')\n",
    "        f.write(row.to_json(orient='index'))\n",
    "    "
   ]
  },
  {
   "cell_type": "markdown",
   "metadata": {},
   "source": [
    "Colonne inserite:\n",
    "-   name\n",
    "-   id: id della ricetta  ----- (da cancellare dopo collegamenti)\n",
    "-   minutes XX\n",
    "-   contributor_id: utente\n",
    "-   submitted: data (TIMESTAMP POST)\n",
    "-   tags: magari si potrebbero droppare, non servono XX\n",
    "-   nutrition: valori nutrizionali associati alla ricetta, magari si può droppare anche questa, si può ricavare facilmente dalle informazioni in ingredienti XX\n",
    "-   n_steps XX\n",
    "-   steps\n",
    "-   description (DESCRIPTION POST)\n",
    "-   ingredients\n",
    "-   n_ingredients XX\n",
    "\n",
    "è possibile recuperare le foto corrispondenti alle ricette dal file recipes.csv dell'altro dataset (Recipes and Reviews)"
   ]
  },
  {
   "cell_type": "markdown",
   "metadata": {},
   "source": [
    "recipes.csv (file altro dataset)"
   ]
  },
  {
   "cell_type": "code",
   "execution_count": 17,
   "metadata": {},
   "outputs": [
    {
     "data": {
      "text/plain": [
       "(0    c(\"blueberries\", \"granulated sugar\", \"vanilla ...\n",
       " Name: RecipeIngredientParts, dtype: object,\n",
       " 0    c(\"4\", \"1/4\", \"1\", \"1\")\n",
       " Name: RecipeIngredientQuantities, dtype: object)"
      ]
     },
     "execution_count": 17,
     "metadata": {},
     "output_type": "execute_result"
    }
   ],
   "source": [
    "file_path = 'recipes.csv'\n",
    "raw_recipes_df = pd.read_csv(file_path)\n",
    "\n",
    "raw_recipes_df['RecipeIngredientParts'].head(1), raw_recipes_df['RecipeIngredientQuantities'].head(1)\n",
    "\n",
    "# , raw_recipes_df.columns.tolist()"
   ]
  },
  {
   "cell_type": "markdown",
   "metadata": {},
   "source": [
    "### RAW_interactions.csv"
   ]
  },
  {
   "cell_type": "code",
   "execution_count": 7,
   "metadata": {},
   "outputs": [
    {
     "data": {
      "text/plain": [
       "(   user_id  recipe_id        date  rating  \\\n",
       " 0    38094      40893  2003-02-17       4   \n",
       " 1  1293707      40893  2011-12-21       5   \n",
       " 2     8937      44394  2002-12-01       4   \n",
       " 3   126440      85009  2010-02-27       5   \n",
       " 4    57222      85009  2011-10-01       5   \n",
       " \n",
       "                                               review  \n",
       " 0  Great with a salad. Cooked on top of stove for...  \n",
       " 1  So simple, so delicious! Great for chilly fall...  \n",
       " 2  This worked very well and is EASY.  I used not...  \n",
       " 3  I made the Mexican topping and took it to bunk...  \n",
       " 4  Made the cheddar bacon topping, adding a sprin...  ,\n",
       " ['user_id', 'recipe_id', 'date', 'rating', 'review'])"
      ]
     },
     "execution_count": 7,
     "metadata": {},
     "output_type": "execute_result"
    }
   ],
   "source": [
    "file_path = 'RAW_interactions.csv'\n",
    "raw_interactions_df = pd.read_csv(file_path)\n",
    "\n",
    "raw_interactions_df.head(), raw_interactions_df.columns.tolist()"
   ]
  },
  {
   "cell_type": "markdown",
   "metadata": {},
   "source": [
    "in più rispetto ai file interactions_test.csv, interactions_train.csv e interactions_validation.csv sono inserite delle recensioni testuali, si potrebbe valutare sia di considerare solo questo file sia di usare questo ignorando le valutazioni e usando solo i commenti"
   ]
  },
  {
   "cell_type": "markdown",
   "metadata": {},
   "source": [
    "### PP_users.csv"
   ]
  },
  {
   "cell_type": "code",
   "execution_count": 8,
   "metadata": {},
   "outputs": [
    {
     "data": {
      "text/plain": [
       "(   u                                         techniques  \\\n",
       " 0  0  [8, 0, 0, 5, 6, 0, 0, 1, 0, 9, 1, 0, 0, 0, 1, ...   \n",
       " 1  1  [11, 0, 0, 2, 12, 0, 0, 0, 0, 14, 5, 0, 0, 0, ...   \n",
       " 2  2  [13, 0, 0, 7, 5, 0, 1, 2, 1, 11, 0, 1, 0, 0, 1...   \n",
       " 3  3  [498, 13, 4, 218, 376, 3, 2, 33, 16, 591, 10, ...   \n",
       " 4  4  [161, 1, 1, 86, 93, 0, 0, 11, 2, 141, 0, 16, 0...   \n",
       " \n",
       "                                                items  n_items  \\\n",
       " 0  [1118, 27680, 32541, 137353, 16428, 28815, 658...       31   \n",
       " 1  [122140, 77036, 156817, 76957, 68818, 155600, ...       39   \n",
       " 2  [168054, 87218, 35731, 1, 20475, 9039, 124834,...       27   \n",
       " 3  [163193, 156352, 102888, 19914, 169438, 55772,...     1513   \n",
       " 4  [72857, 38652, 160427, 55772, 119999, 141777, ...      376   \n",
       " \n",
       "                                              ratings  n_ratings  \n",
       " 0  [5.0, 5.0, 5.0, 5.0, 5.0, 5.0, 5.0, 4.0, 4.0, ...         31  \n",
       " 1  [5.0, 5.0, 5.0, 5.0, 5.0, 5.0, 5.0, 5.0, 5.0, ...         39  \n",
       " 2  [3.0, 4.0, 4.0, 4.0, 4.0, 4.0, 4.0, 4.0, 5.0, ...         27  \n",
       " 3  [5.0, 5.0, 5.0, 5.0, 4.0, 4.0, 5.0, 5.0, 5.0, ...       1513  \n",
       " 4  [5.0, 5.0, 5.0, 5.0, 4.0, 4.0, 5.0, 4.0, 5.0, ...        376  ,\n",
       " ['u', 'techniques', 'items', 'n_items', 'ratings', 'n_ratings'])"
      ]
     },
     "execution_count": 8,
     "metadata": {},
     "output_type": "execute_result"
    }
   ],
   "source": [
    "file_path = 'PP_users.csv'\n",
    "pp_users_df = pd.read_csv(file_path)\n",
    "\n",
    "pp_users_df.head(), pp_users_df.columns.tolist()"
   ]
  },
  {
   "cell_type": "markdown",
   "metadata": {},
   "source": [
    "Le colonne usate sono\n",
    "-   u: sembra essere un identificatore unico per l'utente.\n",
    "-   techniques: potrebbe rappresentare un elenco di tecniche culinarie associate a ogni utente, probabilmente sotto forma di conteggi o indicatori.\n",
    "-   items: sembra essere un elenco di ID di ricette associati a ogni utente.\n",
    "-   n_items: indica il numero di elementi (presumibilmente ricette) associati a ciascun utente.\n",
    "-   ratings: è probabilmente un elenco di valutazioni assegnate da ogni utente a diverse ricette.\n",
    "-   n_ratings: indica il numero di valutazioni fornite dall'utente."
   ]
  },
  {
   "cell_type": "markdown",
   "metadata": {},
   "source": [
    "### PP_recipes.csv"
   ]
  },
  {
   "cell_type": "code",
   "execution_count": 9,
   "metadata": {},
   "outputs": [
    {
     "data": {
      "text/plain": [
       "(       id       i                                        name_tokens  \\\n",
       " 0  424415      23  [40480, 37229, 2911, 1019, 249, 6878, 6878, 28...   \n",
       " 1  146223   96900       [40480, 18376, 7056, 246, 1531, 2032, 40481]   \n",
       " 2  312329  120056     [40480, 21044, 16954, 8294, 556, 10837, 40481]   \n",
       " 3   74301  168258                       [40480, 10025, 31156, 40481]   \n",
       " 4   76272  109030  [40480, 17841, 252, 782, 2373, 1641, 2373, 252...   \n",
       " \n",
       "                                    ingredient_tokens  \\\n",
       " 0  [[2911, 1019, 249, 6878], [1353], [6953], [153...   \n",
       " 1  [[17918], [25916], [2507, 6444], [8467, 1179],...   \n",
       " 2  [[5867, 24176], [1353], [6953], [1301, 11332],...   \n",
       " 3  [[1270, 1645, 28447], [21601], [27952, 29471, ...   \n",
       " 4  [[1430, 11434], [1430, 17027], [1615, 23, 695,...   \n",
       " \n",
       "                                         steps_tokens  \\\n",
       " 0  [40480, 40482, 21662, 481, 6878, 500, 246, 161...   \n",
       " 1  [40480, 40482, 729, 2525, 10906, 485, 43, 8393...   \n",
       " 2  [40480, 40482, 8240, 481, 24176, 296, 1353, 66...   \n",
       " 3  [40480, 40482, 5539, 21601, 1073, 903, 2324, 4...   \n",
       " 4  [40480, 40482, 14046, 1430, 11434, 488, 17027,...   \n",
       " \n",
       "                                           techniques  calorie_level  \\\n",
       " 0  [0, 0, 0, 0, 0, 0, 0, 0, 0, 1, 0, 0, 0, 0, 0, ...              0   \n",
       " 1  [1, 0, 0, 0, 0, 0, 0, 0, 0, 1, 0, 0, 0, 0, 0, ...              0   \n",
       " 2  [0, 0, 0, 0, 1, 0, 0, 0, 0, 0, 0, 1, 0, 0, 0, ...              1   \n",
       " 3  [1, 0, 0, 0, 0, 0, 0, 0, 0, 0, 0, 0, 0, 0, 0, ...              0   \n",
       " 4  [0, 0, 0, 0, 0, 0, 0, 0, 0, 1, 0, 0, 0, 0, 0, ...              0   \n",
       " \n",
       "                                       ingredient_ids  \n",
       " 0                      [389, 7655, 6270, 1527, 3406]  \n",
       " 1  [2683, 4969, 800, 5298, 840, 2499, 6632, 7022,...  \n",
       " 2  [1257, 7655, 6270, 590, 5024, 1119, 4883, 6696...  \n",
       " 3   [7940, 3609, 7060, 6265, 1170, 6654, 5003, 3561]  \n",
       " 4                            [3484, 6324, 7594, 243]  ,\n",
       " ['id',\n",
       "  'i',\n",
       "  'name_tokens',\n",
       "  'ingredient_tokens',\n",
       "  'steps_tokens',\n",
       "  'techniques',\n",
       "  'calorie_level',\n",
       "  'ingredient_ids'])"
      ]
     },
     "execution_count": 9,
     "metadata": {},
     "output_type": "execute_result"
    }
   ],
   "source": [
    "file_path = 'PP_recipes.csv'\n",
    "pp_recipes_df = pd.read_csv(file_path)\n",
    "\n",
    "pp_recipes_df.head(), pp_recipes_df.columns.tolist()"
   ]
  },
  {
   "cell_type": "markdown",
   "metadata": {},
   "source": [
    "-   id: Identificativo unico per ogni ricetta.\n",
    "-   i: Sembra essere un altro identificatore, forse correlato a un sistema interno o a un database esterno.\n",
    "-   name_tokens: Questa colonna contiene token associati al nome della ricetta. I token sono rappresentati da numeri, il che suggerisce che il nome della ricetta è stato convertito in una forma numerica, probabilmente attraverso un processo di tokenizzazione per l'elaborazione del linguaggio naturale.\n",
    "-   ingredient_tokens: Simile a name_tokens, ma per gli ingredienti. Ogni ingrediente è rappresentato da un insieme di token numerici, probabilmente - indicando parole chiave o attributi specifici.\n",
    "-   steps_tokens: Token che rappresentano i passaggi della ricetta. Anche in questo caso, i passaggi sono stati convertiti in una forma tokenizzata -  numerica.\n",
    "-   techniques: Una serie di valori binari (0 o 1) che potrebbero rappresentare la presenza o l'assenza di specifiche tecniche di cucina utilizzate nella ricetta.\n",
    "-   calorie_level: Livello calorico della ricetta, rappresentato come un numero intero. Potrebbe essere una classificazione basata su intervalli di calorie.\n",
    "-   ingredient_ids: Identificatori numerici unici per ogni ingrediente utilizzato nella ricetta.\n"
   ]
  },
  {
   "cell_type": "code",
   "execution_count": 10,
   "metadata": {},
   "outputs": [
    {
     "data": {
      "text/plain": [
       "0      Great with a salad. Cooked on top of stove for...\n",
       "1      So simple, so delicious! Great for chilly fall...\n",
       "2      This worked very well and is EASY.  I used not...\n",
       "3      I made the Mexican topping and took it to bunk...\n",
       "4      Made the cheddar bacon topping, adding a sprin...\n",
       "                             ...                        \n",
       "333    This is delicious and it is low fat!!!  I made...\n",
       "334    Oh, this is YUMMY! I followed recipe exactly a...\n",
       "335    Delicious!  The only change I made was leaving...\n",
       "336    Great recipe for leftover beef, easy to make a...\n",
       "337    I made this for last night's dinner. I used Di...\n",
       "Name: review, Length: 338, dtype: object"
      ]
     },
     "execution_count": 10,
     "metadata": {},
     "output_type": "execute_result"
    }
   ],
   "source": [
    "file_path = 'filtered_interactions.csv'\n",
    "df = pd.read_csv(file_path)\n",
    "\n",
    "# show review in row 10\n",
    "df.iloc[:338]['review']\n"
   ]
  },
  {
   "cell_type": "code",
   "execution_count": 11,
   "metadata": {},
   "outputs": [
    {
     "data": {
      "text/html": [
       "<div>\n",
       "<style scoped>\n",
       "    .dataframe tbody tr th:only-of-type {\n",
       "        vertical-align: middle;\n",
       "    }\n",
       "\n",
       "    .dataframe tbody tr th {\n",
       "        vertical-align: top;\n",
       "    }\n",
       "\n",
       "    .dataframe thead th {\n",
       "        text-align: right;\n",
       "    }\n",
       "</style>\n",
       "<table border=\"1\" class=\"dataframe\">\n",
       "  <thead>\n",
       "    <tr style=\"text-align: right;\">\n",
       "      <th></th>\n",
       "      <th>name</th>\n",
       "      <th>id</th>\n",
       "      <th>minutes</th>\n",
       "      <th>contributor_id</th>\n",
       "      <th>submitted</th>\n",
       "      <th>tags</th>\n",
       "      <th>nutrition</th>\n",
       "      <th>n_steps</th>\n",
       "      <th>steps</th>\n",
       "      <th>description</th>\n",
       "      <th>ingredients</th>\n",
       "      <th>n_ingredients</th>\n",
       "    </tr>\n",
       "  </thead>\n",
       "  <tbody>\n",
       "    <tr>\n",
       "      <th>23695</th>\n",
       "      <td>biryani</td>\n",
       "      <td>39</td>\n",
       "      <td>265</td>\n",
       "      <td>1567</td>\n",
       "      <td>1999-08-29</td>\n",
       "      <td>['weeknight', 'time-to-make', 'course', 'main-...</td>\n",
       "      <td>[1110.7, 90.0, 81.0, 15.0, 126.0, 82.0, 28.0]</td>\n",
       "      <td>17</td>\n",
       "      <td>['soak saffron in warm milk for 5 minutes and ...</td>\n",
       "      <td>delhi, india</td>\n",
       "      <td>['saffron', 'milk', 'hot green chili peppers',...</td>\n",
       "      <td>26</td>\n",
       "    </tr>\n",
       "  </tbody>\n",
       "</table>\n",
       "</div>"
      ],
      "text/plain": [
       "          name  id  minutes  contributor_id   submitted  \\\n",
       "23695  biryani  39      265            1567  1999-08-29   \n",
       "\n",
       "                                                    tags  \\\n",
       "23695  ['weeknight', 'time-to-make', 'course', 'main-...   \n",
       "\n",
       "                                           nutrition  n_steps  \\\n",
       "23695  [1110.7, 90.0, 81.0, 15.0, 126.0, 82.0, 28.0]       17   \n",
       "\n",
       "                                                   steps   description  \\\n",
       "23695  ['soak saffron in warm milk for 5 minutes and ...  delhi, india   \n",
       "\n",
       "                                             ingredients  n_ingredients  \n",
       "23695  ['saffron', 'milk', 'hot green chili peppers',...             26  "
      ]
     },
     "execution_count": 11,
     "metadata": {},
     "output_type": "execute_result"
    }
   ],
   "source": [
    "file_path = 'RAW_recipes.csv'\n",
    "df = pd.read_csv(file_path)\n",
    "\n",
    "# show review with id 38 \n",
    "df[df['id']==39]"
   ]
  },
  {
   "cell_type": "markdown",
   "metadata": {},
   "source": [
    "USER\n",
    "\n",
    "I nomi possono essere ricavati dal file recipes.csv nell'altro dataset, il profilo di un utente viene generato con lo script"
   ]
  },
  {
   "cell_type": "code",
   "execution_count": 15,
   "metadata": {},
   "outputs": [
    {
     "data": {
      "text/plain": [
       "44"
      ]
     },
     "execution_count": 15,
     "metadata": {},
     "output_type": "execute_result"
    }
   ],
   "source": [
    "file_path = 'calories.csv'\n",
    "ingr_map_df = pd.read_csv(file_path)\n",
    "\n",
    "distinct_categories = ingr_map_df['FoodCategory'].unique()\n",
    "\n",
    "# print distinct ingredients in a file\n",
    "with open('distinct_category.txt', 'w') as f:\n",
    "    for item in distinct_categories:\n",
    "        f.write(\"%s\\n\" % item)\n",
    "        \n",
    "distinct_categories.size"
   ]
  }
 ],
 "metadata": {
  "kernelspec": {
   "display_name": "WeFood",
   "language": "python",
   "name": "python3"
  },
  "language_info": {
   "codemirror_mode": {
    "name": "ipython",
    "version": 3
   },
   "file_extension": ".py",
   "mimetype": "text/x-python",
   "name": "python",
   "nbconvert_exporter": "python",
   "pygments_lexer": "ipython3",
   "version": "3.12.0"
  }
 },
 "nbformat": 4,
 "nbformat_minor": 2
}
