{
 "cells": [
  {
   "cell_type": "code",
   "execution_count": 2,
   "metadata": {},
   "outputs": [
    {
     "name": "stdout",
     "output_type": "stream",
     "text": [
      "Intel MKL WARNING: Support of Intel(R) Streaming SIMD Extensions 4.2 (Intel(R) SSE4.2) enabled only processors has been deprecated. Intel oneAPI Math Kernel Library 2025.0 will require Intel(R) Advanced Vector Extensions (Intel(R) AVX) instructions.\n",
      "Intel MKL WARNING: Support of Intel(R) Streaming SIMD Extensions 4.2 (Intel(R) SSE4.2) enabled only processors has been deprecated. Intel oneAPI Math Kernel Library 2025.0 will require Intel(R) Advanced Vector Extensions (Intel(R) AVX) instructions.\n"
     ]
    }
   ],
   "source": [
    "import pandas as pd\n",
    "import json"
   ]
  },
  {
   "cell_type": "code",
   "execution_count": 3,
   "metadata": {},
   "outputs": [
    {
     "name": "stdout",
     "output_type": "stream",
     "text": [
      "5661835\n",
      "4529468\n"
     ]
    }
   ],
   "source": [
    "# Percorso del file CSV\n",
    "input_csv_file = '../0Raw_Datasets/RAW_interactions.csv'\n",
    "\n",
    "# Leggi il file CSV\n",
    "df = pd.read_csv(input_csv_file)\n",
    "\n",
    "print(df.size)\n",
    "\n",
    "# Rimuovi le righe duplicate basate su user_id e recipe_id\n",
    "df = df.drop_duplicates(subset=['user_id', 'recipe_id'])\n",
    "\n",
    "# Seleziona e rinomina le colonne\n",
    "df = df[['user_id', 'recipe_id', 'date', 'review']].rename(columns={'review': 'text', 'date': 'timestamp'})\n",
    "\n",
    "# Percorso del file JSON di output\n",
    "output_json_file = 'comments.json'\n",
    "\n",
    "# Esporta in JSON\n",
    "df.to_json(output_json_file, orient='records', lines=False, indent=4)\n",
    "\n",
    "print(df.size)"
   ]
  },
  {
   "cell_type": "code",
   "execution_count": 4,
   "metadata": {},
   "outputs": [
    {
     "name": "stdout",
     "output_type": "stream",
     "text": [
      "2853204\n",
      "   user_id  recipe_id  timestamp  \\\n",
      "1  1293707      40893 2011-12-21   \n",
      "2     8937      44394 2002-12-01   \n",
      "3   126440      85009 2010-02-27   \n",
      "4    57222      85009 2011-10-01   \n",
      "5    52282     120345 2005-05-21   \n",
      "\n",
      "                                                text  \n",
      "1  So simple, so delicious! Great for chilly fall...  \n",
      "2  This worked very well and is EASY.  I used not...  \n",
      "3  I made the Mexican topping and took it to bunk...  \n",
      "4  Made the cheddar bacon topping, adding a sprin...  \n",
      "5  very very sweet. after i waited the 2 days i b...  \n"
     ]
    }
   ],
   "source": [
    "# Percorso del file JSON degli utenti\n",
    "users_json_file = '../users/utenti_generati.json'\n",
    "\n",
    "# Leggi il file JSON degli utenti e estrai gli ID\n",
    "with open(users_json_file, 'r', encoding='utf-8') as file:\n",
    "    users_data = json.load(file)\n",
    "user_ids = {user['Contributor_ID'] for user in users_data}\n",
    "\n",
    "# Percorso del file JSON dei record\n",
    "records_json_file = 'comments.json'\n",
    "\n",
    "# Carica il file JSON dei record in un DataFrame\n",
    "df_records = pd.read_json(records_json_file)\n",
    "\n",
    "# Filtra i record mantenendo solo quelli con user_id presente in user_ids\n",
    "filtered_df = df_records[df_records['user_id'].isin(user_ids)]\n",
    "\n",
    "# Stampa la dimensione e le prime righe del DataFrame filtrato\n",
    "print(filtered_df.size)\n",
    "print(filtered_df.head())\n",
    "\n",
    "# Percorso del file JSON di output per i record filtrati\n",
    "output_filtered_json_file = 'comments_cleaned.json'\n",
    "\n",
    "# Esporta i record filtrati in un nuovo file JSON\n",
    "filtered_df.to_json(output_filtered_json_file, orient='records', lines=False, indent=4)\n"
   ]
  }
 ],
 "metadata": {
  "kernelspec": {
   "display_name": "WeFood",
   "language": "python",
   "name": "python3"
  },
  "language_info": {
   "codemirror_mode": {
    "name": "ipython",
    "version": 3
   },
   "file_extension": ".py",
   "mimetype": "text/x-python",
   "name": "python",
   "nbconvert_exporter": "python",
   "pygments_lexer": "ipython3",
   "version": "3.12.0"
  }
 },
 "nbformat": 4,
 "nbformat_minor": 2
}
