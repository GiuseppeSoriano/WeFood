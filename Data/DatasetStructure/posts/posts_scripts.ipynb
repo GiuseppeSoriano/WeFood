{
 "cells": [
  {
   "cell_type": "markdown",
   "metadata": {},
   "source": [
    "Definiamo la struttura del post a partire dalla ricetta, che si presenterà in questo modo\n",
    "```\n",
    "{\n",
    "    _id: #,\n",
    "    _idUser: #, \n",
    "    username: String, [R]\n",
    "    description: String,\n",
    "    timestamp: Timestamp,\n",
    "    recipe: {\n",
    "                name: String,\n",
    "                image: String_URL,\n",
    "                steps: [String, ...],\n",
    "                totalCalories: Double, [R]\n",
    "                ingredients: [{\n",
    "                                name: String,\n",
    "                                quantity: Double, \n",
    "                }, ...]\n",
    "    },\n",
    "    avgStarRanking: Double, [R]\n",
    "    starRankings: [{\n",
    "                        _idUser: #,\n",
    "                        username: String, [R]\n",
    "                        vote: Double,\n",
    "                        (timestamp: Timestamp)\n",
    "    }, ...],\n",
    "    comments: [{\n",
    "                _idUser: #,\n",
    "                username: String, [R]\n",
    "                text: String,\n",
    "                timestamp: Timestamp\n",
    "    }, ...]\n",
    "}\n",
    "```"
   ]
  },
  {
   "cell_type": "code",
   "execution_count": 2,
   "metadata": {},
   "outputs": [],
   "source": [
    "import json"
   ]
  },
  {
   "cell_type": "code",
   "execution_count": null,
   "metadata": {},
   "outputs": [],
   "source": [
    "def calcola_calorie_totali(ingredienti):\n",
    "    total_calories = 0\n",
    "    for ingrediente in ingredienti:\n",
    "        total_calories += (ingrediente[\"quantity\"] / 100) * ingrediente[\"Cals_per100grams\"]\n",
    "    return round(total_calories, 2)\n",
    "\n",
    "def trasforma_ricette_in_post(file_ricette, file_output):\n",
    "    # Leggi il file delle ricette\n",
    "    with open(file_ricette, 'r', encoding='utf-8') as file:\n",
    "        ricette_json = json.load(file)\n",
    "\n",
    "    post_array = []\n",
    "\n",
    "    for ricetta in ricette_json:\n",
    "        total_calories = calcola_calorie_totali(ricetta[\"ingredients\"])\n",
    "        post = {\n",
    "            \"id\": ricetta[\"id\"],\n",
    "            \"idUser\": ricetta[\"contributor_id\"],\n",
    "            \"description\": ricetta[\"description\"],\n",
    "            \"timestamp\": ricetta[\"submitted\"],\n",
    "            \"recipe\": {\n",
    "                \"name\": ricetta[\"name\"],\n",
    "                \"image\": ricetta[\"Image\"],\n",
    "                \"steps\": ricetta[\"steps\"],\n",
    "                \"ingredients\": ricetta[\"ingredients\"],\n",
    "                \"totalCalories\": total_calories\n",
    "            }\n",
    "        }\n",
    "        post_array.append(post)\n",
    "\n",
    "    # Scrivi l'output in un nuovo file JSON\n",
    "    with open(file_output, 'w', encoding='utf-8') as file:\n",
    "        json.dump(post_array, file, indent=4, ensure_ascii=False)\n",
    "\n",
    "# Esempio di utilizzo\n",
    "file_ricette = '../recipes/RAW_recipes_images_ingredients_cleaned1.json'  # Sostituisci con il percorso del tuo file di ricette\n",
    "file_output = 'posts_recipes.json'  # Sostituisci con il percorso del file di output desiderato\n",
    "\n",
    "trasforma_ricette_in_post(file_ricette, file_output)"
   ]
  },
  {
   "cell_type": "code",
   "execution_count": null,
   "metadata": {},
   "outputs": [],
   "source": [
    "with open('posts_recipes.json', 'r') as file:\n",
    "    ricette = json.load(file)\n",
    "    \n",
    "for ricetta in ricette:\n",
    "    for ingrediente in ricetta[\"recipe\"][\"ingredients\"]:\n",
    "        del ingrediente[\"Cals_per100grams\"]\n",
    "        \n",
    "with open('posts_recipes_no_calories.json', 'w') as file:\n",
    "    json.dump(ricette, file, indent=4)"
   ]
  },
  {
   "cell_type": "markdown",
   "metadata": {},
   "source": [
    "Bisogna aggiungere comments e star_rankings e calcolare avg_star_ranking"
   ]
  },
  {
   "cell_type": "markdown",
   "metadata": {},
   "source": [
    "Si aggiungono i comments"
   ]
  },
  {
   "cell_type": "code",
   "execution_count": null,
   "metadata": {},
   "outputs": [],
   "source": [
    "# Leggi il file JSON dei post\n",
    "with open('posts_recipes_no_calories.json', 'r') as file:\n",
    "    posts = json.load(file)\n",
    "\n",
    "# Leggi il file JSON dei commenti\n",
    "with open('../comments/comments_cleaned.json', 'r') as file:\n",
    "    comments = json.load(file)\n",
    "\n",
    "# Crea una mappa dei commenti basata su user_id\n",
    "comments_map = {}\n",
    "for comment in comments:\n",
    "    recipe_id = comment['recipe_id']\n",
    "    if recipe_id not in comments_map:\n",
    "        comments_map[recipe_id] = []\n",
    "    comments_map[recipe_id].append(comment)\n",
    "\n",
    "# Aggiungi i commenti ai post corrispondenti\n",
    "for post in posts:\n",
    "    recipe_id = post['id']\n",
    "    post['comments'] = comments_map.get(recipe_id, [])\n",
    "\n",
    "# Salva o restituisci il nuovo JSON\n",
    "with open('posts_with_comments.json', 'w') as file:\n",
    "    json.dump(posts, file, indent=4)\n"
   ]
  },
  {
   "cell_type": "code",
   "execution_count": 4,
   "metadata": {},
   "outputs": [],
   "source": [
    "with open('posts_with_comments.json', 'r') as file:\n",
    "    posts = json.load(file)\n",
    "    \n",
    "for post in posts:\n",
    "    for comment in post[\"comments\"]:\n",
    "        del comment[\"recipe_id\"]\n",
    "        \n",
    "with open('posts_with_comments_cleaned.json', 'w') as file:\n",
    "    json.dump(posts, file, indent=4)"
   ]
  },
  {
   "cell_type": "markdown",
   "metadata": {},
   "source": [
    "Si aggiungono gli star_rankings"
   ]
  },
  {
   "cell_type": "code",
   "execution_count": 5,
   "metadata": {},
   "outputs": [],
   "source": [
    "# Leggi il file JSON dei post\n",
    "with open('posts_with_comments_cleaned.json', 'r') as file:\n",
    "    posts = json.load(file)\n",
    "\n",
    "# Leggi il file JSON dei commenti\n",
    "with open('../star_rankings/star_rankings_cleaned.json', 'r') as file:\n",
    "    stars = json.load(file)\n",
    "\n",
    "# Crea una mappa dei commenti basata su user_id\n",
    "stars_map = {}\n",
    "for star in stars:\n",
    "    recipe_id = star['recipe_id']\n",
    "    if recipe_id not in stars_map:\n",
    "        stars_map[recipe_id] = []\n",
    "    stars_map[recipe_id].append(star)\n",
    "\n",
    "# Aggiungi i commenti ai post corrispondenti\n",
    "for post in posts:\n",
    "    recipe_id = post['id']\n",
    "    post['starRankings'] = stars_map.get(recipe_id, [])\n",
    "\n",
    "# Salva o restituisci il nuovo JSON\n",
    "with open('posts_with_comments_stars.json', 'w') as file:\n",
    "    json.dump(posts, file, indent=4)"
   ]
  },
  {
   "cell_type": "code",
   "execution_count": 6,
   "metadata": {},
   "outputs": [],
   "source": [
    "with open('posts_with_comments_stars.json', 'r') as file:\n",
    "    posts = json.load(file)\n",
    "    \n",
    "for post in posts:\n",
    "    for comment in post[\"starRankings\"]:\n",
    "        del comment[\"recipe_id\"]\n",
    "        \n",
    "with open('posts_with_comments_stars_cleaned.json', 'w') as file:\n",
    "    json.dump(posts, file, indent=4)"
   ]
  },
  {
   "cell_type": "markdown",
   "metadata": {},
   "source": [
    "Aggiungo avgStarRanking."
   ]
  },
  {
   "cell_type": "code",
   "execution_count": 3,
   "metadata": {},
   "outputs": [],
   "source": [
    "with open('posts_with_comments_stars_cleaned.json', 'r') as file:\n",
    "    posts = json.load(file)\n",
    "\n",
    "for post in posts:\n",
    "    # Controlla se ci sono voti\n",
    "    if 'starRankings' in post and post['starRankings']:\n",
    "        total_votes = sum(vote['vote'] for vote in post['starRankings'])\n",
    "        avg_ranking = str(round((total_votes / len(post['starRankings'])), 2))\n",
    "    else:\n",
    "        avg_ranking = \"No votes available\"\n",
    "\n",
    "    # Aggiungi avgRanking al post\n",
    "    post['avgRanking'] = avg_ranking\n",
    "    \n",
    "with open('posts_database.json', 'w') as file:\n",
    "    json.dump(posts, file, indent=4)"
   ]
  },
  {
   "cell_type": "markdown",
   "metadata": {},
   "source": [
    "Bisogna effettuare una modifica, avgRanking in realtà conviene che sia una stringa dato che va solo mostrata a video, in modo tale che se non sono presenti valutazioni tale campo puà avere anche come valore \"No votes available\""
   ]
  }
 ],
 "metadata": {
  "kernelspec": {
   "display_name": "WeFood",
   "language": "python",
   "name": "python3"
  },
  "language_info": {
   "codemirror_mode": {
    "name": "ipython",
    "version": 3
   },
   "file_extension": ".py",
   "mimetype": "text/x-python",
   "name": "python",
   "nbconvert_exporter": "python",
   "pygments_lexer": "ipython3",
   "version": "3.12.0"
  }
 },
 "nbformat": 4,
 "nbformat_minor": 2
}
