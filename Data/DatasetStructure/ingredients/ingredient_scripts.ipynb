{
 "cells": [
  {
   "cell_type": "markdown",
   "metadata": {},
   "source": [
    "Il file ingr_map.pkl prevede la struttura con le seguenti colonne:\n",
    "-   raw_ingr: forma originale\n",
    "-   raw_words: numero di parole nella forma originale\n",
    "-   processed: forma processata\n",
    "-   len_proc: lunghezza caratteri della forma processata\n",
    "-   replaced: ingrediente con cui si fa la sostituzione \n",
    "-   count: conteggio della frequenza del dato ingrediente\n",
    "-   id: identificativo unico dell'ingrediente\n",
    "\n",
    "Il file è stato pulito mantenendo le colonne:\n",
    "-   raw_ingr: forma originale\n",
    "-   replaced: ingrediente con cui si fa la sostituzione \n",
    "-   id: identificativo unico dell'ingrediente\n",
    "e salvato in Ingredients.json"
   ]
  },
  {
   "cell_type": "markdown",
   "metadata": {},
   "source": [
    "Dal file calories.csv (fornito dal dataset Ingredients and calories) abbiamo generato distinct_category.txt, in modo da avere le categorie presenti nel file. Per ogni categoria, col supporto di ChatGPT, sono stati generati due valori, quantity_min e quantity_max, in modo da poter determinare un range verosimile di quantità per ogni ingrediente da usare in una ricetta. \n"
   ]
  },
  {
   "cell_type": "markdown",
   "metadata": {},
   "source": [
    "Partendo dal file calories.csv (fornito dal dataset Ingredients and calories) abbiamo pulito la struttura generando il file cleaned_calories.csv, eliminando duplicati (sulla base dell'attributo FoodItem), il quale presenta le seguenti colonne: \n",
    "-   FoodCategory\n",
    "-   FoodItem\n",
    "-   per100grams\n",
    "-   Cals_per100grams\n",
    "-   KJ_per100grams\n",
    "-   quantity_min\n",
    "-   quantity_max"
   ]
  },
  {
   "cell_type": "markdown",
   "metadata": {},
   "source": [
    "A questo punto, utilizzando il seguente script, abbiamo effettuato il matching per verosimiglianza, tra i file Ingredients.json e cleaned_calories.csv effettuando il matching tra le replaced (Ingredients.json) e FoodItem (cleaned_calories.csv)."
   ]
  },
  {
   "cell_type": "code",
   "execution_count": null,
   "metadata": {},
   "outputs": [],
   "source": [
    "from fuzzywuzzy import process\n",
    "import json\n",
    "import pandas as pd\n",
    "\n",
    "# Load the JSON file\n",
    "with open('Ingredients.json', 'r') as file:\n",
    "    ingredients_data = json.load(file)\n",
    "\n",
    "# Load the CSV file\n",
    "updated_calories_df = pd.read_csv('cleaned_calories.csv')\n",
    "\n",
    "# Displaying the first few records of each to understand their structure\n",
    "ingredients_sample = ingredients_data[:5]\n",
    "updated_calories_sample = updated_calories_df.head()\n",
    "\n",
    "ingredients_sample, updated_calories_sample\n",
    "\n",
    "# Creating a DataFrame from the JSON data\n",
    "ingredients_df = pd.DataFrame(ingredients_data)\n",
    "\n",
    "# Renaming the columns for clarity and ease of merging\n",
    "updated_calories_df.rename(columns={'FoodItem': 'replaced'}, inplace=True)\n",
    "\n",
    "# Creating a list of unique 'replaced' values from the ingredients DataFrame\n",
    "unique_replaced_ingredients = ingredients_df['replaced'].unique()\n",
    "\n",
    "print(\"Number of unique 'replaced' values in the ingredients DataFrame: \", len(unique_replaced_ingredients))\n",
    "\n",
    "# Creating a dictionary to map each 'replaced' value to the most similar 'replaced' value in the updated_calories DataFrame\n",
    "replaced_mapping = {replaced: process.extractOne(replaced, updated_calories_df['replaced'].unique())[0] \n",
    "                    for replaced in unique_replaced_ingredients}\n",
    "\n",
    "# Mapping the 'replaced' values in ingredients DataFrame\n",
    "ingredients_df['foodItem'] = ingredients_df['replaced'].map(replaced_mapping)\n",
    "\n",
    "# Merging the DataFrames on the new 'foodItem' column in ingredients_df and 'replaced' in updated_calories_df\n",
    "merged_fuzzy_df = pd.merge(ingredients_df, updated_calories_df, left_on='foodItem', right_on='replaced', how='left')\n",
    "\n",
    "# Keeping both 'replaced' columns for clarity\n",
    "merged_fuzzy_df.rename(columns={'replaced_x': 'replaced_ingredients', 'replaced_y': 'replaced_calories'}, inplace=True)\n",
    "\n",
    "# Counting the number of records in the new merged DataFrame\n",
    "new_record_count = merged_fuzzy_df.shape[0]\n",
    "\n",
    "print(\"Number of records in the new merged DataFrame: \", new_record_count)\n",
    "\n",
    "print(merged_fuzzy_df.head())\n",
    "\n",
    "# save the new DataFrame to a CSV file\n",
    "merged_fuzzy_df.to_csv('merged_fuzzy_df.csv', index=False)"
   ]
  },
  {
   "cell_type": "code",
   "execution_count": null,
   "metadata": {},
   "outputs": [],
   "source": [
    "df = pd.read_csv('merged_fuzzy_df.csv')\n",
    "\n",
    "# print to json file\n",
    "df.to_json('merged_fuzzy_df.json', orient='records')"
   ]
  },
  {
   "cell_type": "markdown",
   "metadata": {},
   "source": [
    "Il codice nel file ingr_merger.py esegue le seguenti operazioni:\n",
    "\n",
    "Importazione di moduli: Importa i moduli fuzzywuzzy, json e pandas. fuzzywuzzy è utilizzato per il matching di stringhe basato sulla somiglianza, mentre pandas è per la manipolazione dei dati e json per la lettura di file JSON.\n",
    "\n",
    "Caricamento del file JSON: Carica un file JSON chiamato Ingredients.json, che probabilmente contiene dati sugli ingredienti.\n",
    "\n",
    "Caricamento del file CSV: Carica un file CSV chiamato cleaned_calories.csv, presumibilmente contenente dati sulle calorie.\n",
    "\n",
    "Visualizzazione di campioni di dati: Visualizza i primi cinque record di ciascun set di dati per comprendere la loro struttura.\n",
    "\n",
    "Creazione di DataFrame da dati JSON: Converte i dati JSON in un DataFrame di pandas.\n",
    "\n",
    "Rinominazione delle colonne: Rinomina le colonne nel DataFrame CSV per chiarezza e per facilitare l'unione dei dati.\n",
    "\n",
    "Estrazione di valori unici: Crea una lista di valori unici della colonna replaced del DataFrame degli ingredienti.\n",
    "\n",
    "Stampa del numero di valori unici: Stampa il numero di valori unici nella colonna replaced del DataFrame degli ingredienti.\n",
    "\n",
    "Mappatura dei valori 'replaced': Utilizza fuzzywuzzy per mappare ciascun valore di replaced nel DataFrame degli ingredienti al valore più simile nel DataFrame delle calorie.\n",
    "\n",
    "Mappatura e unione dei DataFrame: Mappa i valori di replaced nel DataFrame degli ingredienti e poi unisce i due DataFrame basandosi su questa mappatura.\n",
    "\n",
    "Rinominazione delle colonne dopo l'unione: Rinomina le colonne nel DataFrame unito per chiarezza.\n",
    "\n",
    "Conta dei record nel nuovo DataFrame unito: Conta il numero di record nel DataFrame risultante dall'unione.\n",
    "\n",
    "Stampa dei primi record del nuovo DataFrame unito: Visualizza i primi record del DataFrame unito.\n",
    "\n",
    "Salvataggio del nuovo DataFrame in un file CSV: Salva il DataFrame unito in un file CSV chiamato merged_fuzzy_df.csv.\n",
    "\n",
    "La struttura dell'output finale, basata su questo codice, sarà un DataFrame pandas che unisce i dati degli ingredienti con i dati delle calorie, utilizzando la somiglianza delle stringhe per associare gli elementi corrispondenti. Questo DataFrame viene poi salvato in un file CSV. Questo approccio è utile per abbinare dati provenienti da fonti diverse che potrebbero avere modi leggermente diversi di riferirsi agli stessi elementi, come varianti di nomi di ingredienti."
   ]
  },
  {
   "cell_type": "markdown",
   "metadata": {},
   "source": [
    "Ho creato uno script che rimuove le colonne replaced_calories, per100grams e KJ_per100grams dal DataFrame ottenuto dal file merged_fuzzy_df.json e salva i dati rimanenti in un nuovo file JSON con formattazione pretty nel file merged_fuzzy_df_reduced.json"
   ]
  },
  {
   "cell_type": "code",
   "execution_count": null,
   "metadata": {},
   "outputs": [],
   "source": [
    "# Eliminate le colonne specificate dal DataFrame\n",
    "columns_to_drop = ['replaced_calories', 'per100grams', 'KJ_per100grams']\n",
    "reduced_df = merged_fuzzy_df.drop(columns=columns_to_drop)\n",
    "\n",
    "# Definizione del percorso del nuovo file JSON\n",
    "new_json_path = 'merged_fuzzy_df_reduced.json'\n",
    "\n",
    "# Salvataggio del DataFrame in un nuovo file JSON con formattazione pretty\n",
    "reduced_df.to_json(new_json_path, orient='records', lines=False, indent=4)"
   ]
  },
  {
   "cell_type": "markdown",
   "metadata": {},
   "source": [
    "Ho modificato la colonna Cals_per100grams per convertire i valori da stringhe nel formato \"value cal\" a numeri. Il DataFrame aggiornato è stato salvato in un nuovo file JSON nel file merged_fuzzy_df_updated_reduced.json"
   ]
  },
  {
   "cell_type": "code",
   "execution_count": null,
   "metadata": {},
   "outputs": [],
   "source": [
    "# Conversione della colonna 'Cals_per100grams' da stringa a numero\n",
    "reduced_df['Cals_per100grams'] = reduced_df['Cals_per100grams'].str.extract(r'(\\d+)').astype(float)\n",
    "\n",
    "# Salvataggio del DataFrame modificato in un nuovo file JSON\n",
    "updated_json_path = 'updated_merged_fuzzy_df.json'\n",
    "reduced_df.to_json(updated_json_path, orient='records', lines=False, indent=4)"
   ]
  }
 ],
 "metadata": {
  "language_info": {
   "name": "python"
  }
 },
 "nbformat": 4,
 "nbformat_minor": 2
}
